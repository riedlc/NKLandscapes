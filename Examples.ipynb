{
 "cells": [
  {
   "cell_type": "markdown",
   "id": "7c666538",
   "metadata": {},
   "source": [
    "## DISCLAIMERS: This NK Landscape Generation Package is quite basic for now.  This package MAY be updated or maintained based on the whims of RAs in the CSS Lab at NEU's Network Science Institute.  \n",
    "\n",
    "### There are a few future-looking additions to this package that are not fully implemented. \n",
    "### MODIFY PREDEFINED ARGUMENTS AT YOUR OWN RISK (i.e. the 'base' argument in nklsgen.nk_landscapes() may not work for any value other than 2)"
   ]
  },
  {
   "cell_type": "markdown",
   "id": "245557a9",
   "metadata": {},
   "source": [
    "### Simplest Application\n",
    "The primary function, generate_landscapes(), requires 3 inputs:\n",
    "1. N => defines landscape size\n",
    "2. K => defines landscape roughness\n",
    "3. num_of_ls => defines number of landscapes created\n",
    "\n",
    "The output will be an np.array containing randomly generated landscapes, with each landscape as a dictionary. <br>\n",
    "\n",
    "Each key, value pair in a landscape dictionary represents a single location and it's fitness value. The locations are binary strings.  Each dictionary should contain 2^N entries (given the base of 2). <br>"
   ]
  },
  {
   "cell_type": "code",
   "execution_count": 4,
   "id": "546a2e3f",
   "metadata": {},
   "outputs": [
    {
     "data": {
      "text/plain": [
       "{'000': 1.0,\n",
       " '001': 0.7626477881494286,\n",
       " '010': 0.237352211572279,\n",
       " '011': 0.0,\n",
       " '100': 0.3419241539309924,\n",
       " '101': 0.4892473488109021,\n",
       " '110': 0.1639162497309352,\n",
       " '111': 0.3112394446108449}"
      ]
     },
     "execution_count": 4,
     "metadata": {},
     "output_type": "execute_result"
    }
   ],
   "source": [
    "import nklsgen\n",
    "\n",
    "N, K, num_of_ls = 3, 1, 1\n",
    "landscapes = nklsgen.generate_landscapes(N, K, num_of_ls)\n",
    "\n",
    "landscapes[0]"
   ]
  },
  {
   "cell_type": "markdown",
   "id": "fb9ac689",
   "metadata": {},
   "source": [
    "## Preprocessing\n",
    "\n",
    "The generate_landscapes() function adds two forms of preprocessing used for our specific applications. Part of the preprocessing scales all values in each landscape such that the minimum is 0 and the maximum is 1. The second step of preprocessing is modifying the landscape data structure from np.array to dictionary. <br>\n",
    "\n",
    "Without preprocessing, each landscape has randomly generated values not guaranteed cover the [0,1] range. \n",
    "\n",
    "Without preprocessing, each landscape remains in np.array format where each row contains both a location on the landscape and the value at that location:\n",
    "- The first N values in each row are the binary location code\n",
    "- The last value is the fitness value of that location\n",
    "\n",
    "Learn more about the unprocessed landscape structure in the docstring for the nklsgen.nk_landscapes() function. "
   ]
  },
  {
   "cell_type": "code",
   "execution_count": 20,
   "id": "6171f254",
   "metadata": {},
   "outputs": [],
   "source": [
    "### HERE IS THE FULL EXPLANATION OF THE UNPROCESSED NP.ARRAY LANDSCAPE STRUCTURE\n",
    "# help(nklsgen.nk_landscapes)"
   ]
  },
  {
   "cell_type": "code",
   "execution_count": 9,
   "id": "ccf0430c",
   "metadata": {},
   "outputs": [
    {
     "name": "stdout",
     "output_type": "stream",
     "text": [
      "The minimum value in this landscape is : [0.41961083]\n",
      "The maximum value in this landscape is : [0.76467563]\n"
     ]
    }
   ],
   "source": [
    "# Landscape example with preprocessing=False (try it with true too!)\n",
    "N, K, num_of_ls = 3, 1, 1\n",
    "landscapes = nklsgen.generate_landscapes(N, K, num_of_ls, preprocessed=False)\n",
    "# landscapes = nklsgen.generate_landscapes(N, K, num_of_ls, preprocessed=True)\n",
    "\n",
    "# Isolate first landscape\n",
    "landscape = landscapes[0]\n",
    "\n",
    "# Landscape Min/Max\n",
    "print(f'The minimum value in this landscape is : {min(landscape[:,-1:])}')\n",
    "print(f'The maximum value in this landscape is : {max(landscape[:,-1:])}')"
   ]
  },
  {
   "cell_type": "code",
   "execution_count": 10,
   "id": "5569af57",
   "metadata": {},
   "outputs": [
    {
     "name": "stdout",
     "output_type": "stream",
     "text": [
      "[[0.         0.         0.         0.62056487]\n",
      " [0.         0.         1.         0.66544039]\n",
      " [0.         1.         0.         0.51616509]\n",
      " [0.         1.         1.         0.56104061]\n",
      " [1.         0.         0.         0.41961083]\n",
      " [1.         0.         1.         0.66646676]\n",
      " [1.         1.         0.         0.5178197 ]\n",
      " [1.         1.         1.         0.76467563]]\n"
     ]
    }
   ],
   "source": [
    "print(landscape)"
   ]
  },
  {
   "cell_type": "code",
   "execution_count": 11,
   "id": "cc9a097c",
   "metadata": {},
   "outputs": [
    {
     "name": "stdout",
     "output_type": "stream",
     "text": [
      "The first location in this landscape is : [0. 0. 0.]\n",
      "The first value in this landscape is: [0.62056487]\n"
     ]
    }
   ],
   "source": [
    "print(f'The first location in this landscape is : {landscape[0][0:N]}')\n",
    "print(f'The first value in this landscape is: {landscape[0][-1:]}')"
   ]
  },
  {
   "cell_type": "markdown",
   "id": "1bec4c4f",
   "metadata": {},
   "source": [
    "## There and Back Again\n",
    "\n",
    "nklsgen contains a two conversion functions needed for preprocessing.  These functions are: \n",
    "1. bin_to_str() => converting a list of binary values (found in unprocessed np.array landscapes) to a string. \n",
    "2. str_to_bin() => converting a string of binary values back into a list. \n",
    "\n",
    "These are useful for us, mostly for indexing purposes, but I wanted to put an example here for clarity. "
   ]
  },
  {
   "cell_type": "code",
   "execution_count": 23,
   "id": "b1233790",
   "metadata": {},
   "outputs": [
    {
     "name": "stdout",
     "output_type": "stream",
     "text": [
      "Location information in list format: [0. 0. 0.]\n",
      "Location information in string format: 000\n"
     ]
    }
   ],
   "source": [
    "## To convert np.array landscape format to str use bin_to_str()\n",
    "\n",
    "# Grab the location from a specific row in your landscape (be sure to )\n",
    "loc_bin = landscape[0,0:N].copy()\n",
    "print(f'Location information in list format: {loc_bin}')\n",
    "\n",
    "# Convert to str format\n",
    "loc_str = nklsgen.bin_to_str(loc_bin)\n",
    "print(f'Location information in string format: {loc_str}')"
   ]
  },
  {
   "cell_type": "code",
   "execution_count": 27,
   "id": "9d44d027",
   "metadata": {},
   "outputs": [
    {
     "name": "stdout",
     "output_type": "stream",
     "text": [
      "Location information in string format: 000\n",
      "Location information in list format: [0, 0, 0]\n"
     ]
    }
   ],
   "source": [
    "## To convert str format back into list format use str_to_bin()\n",
    "\n",
    "print(f'Location information in string format: {loc_str}')\n",
    "\n",
    "loc_bin2 = nklsgen.str_to_bin(loc_str)\n",
    "print(f'Location information in list format: {loc_bin2}')"
   ]
  }
 ],
 "metadata": {
  "kernelspec": {
   "display_name": "Python 3 (ipykernel)",
   "language": "python",
   "name": "python3"
  },
  "language_info": {
   "codemirror_mode": {
    "name": "ipython",
    "version": 3
   },
   "file_extension": ".py",
   "mimetype": "text/x-python",
   "name": "python",
   "nbconvert_exporter": "python",
   "pygments_lexer": "ipython3",
   "version": "3.11.5"
  }
 },
 "nbformat": 4,
 "nbformat_minor": 5
}
